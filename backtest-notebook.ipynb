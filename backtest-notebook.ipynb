{
 "cells": [
  {
   "cell_type": "markdown",
   "id": "78b4c775",
   "metadata": {},
   "source": [
    "### Backtesting NVDA Trading Strategy Using MACD and OBI Indicators\n",
    "- This notebook uses nautilus trader alongside databento to import NASDAQ ITCH data\n",
    "- Uses modern Cython with uv management\n"
   ]
  },
  {
   "cell_type": "code",
   "execution_count": null,
   "id": "e0ca67f4",
   "metadata": {},
   "outputs": [],
   "source": [
    "from dotenv import load_dotenv, find_dotenv\n",
    "from pathlib import Path\n",
    "import databento as db\n",
    "import os\n",
    "\n",
    "# Load environment variables from .env file.\n",
    "# load_dotenv() will search for .env and load it.\n",
    "# It returns True if .env was found and loaded, False otherwise.\n",
    "if load_dotenv():\n",
    "    print(\".env file loaded successfully.\")\n",
    "    # Now find the path of the loaded .env file to determine project root\n",
    "    # find_dotenv() should now return the path of the loaded .env\n",
    "    env_path_str = find_dotenv()\n",
    "    if env_path_str:\n",
    "        PROJECT_ROOT = Path(env_path_str).parent\n",
    "        print(f\"Project root (derived from .env location): {PROJECT_ROOT.resolve()}\")\n",
    "    else:\n",
    "        # This case should be rare if load_dotenv() succeeded\n",
    "        print(\"Warning: .env loaded, but find_dotenv() could not locate its path. Using CWD as project root.\")\n",
    "        PROJECT_ROOT = Path.cwd()\n",
    "else:\n",
    "    print(\"Warning: .env file not found or could not be loaded. Using CWD as project root. Ensure .env is in the project root or parent directories.\")\n",
    "    PROJECT_ROOT = Path.cwd() # Fallback if .env is not found\n",
    "\n",
    "# Prepare a directory for the raw Databento DBN format data, relative to PROJECT_ROOT\n",
    "DATABENTO_DATA_DIR = PROJECT_ROOT / \"databento_data\"\n",
    "print(f\"DATABENTO_DATA_DIR is set to: {DATABENTO_DATA_DIR.resolve()}\")\n",
    "DATABENTO_DATA_DIR.mkdir(exist_ok=True)\n",
    "\n",
    "# Initialize Databento historical client\n",
    "# This will use the DATABENTO_API_KEY environment variable (recommended best practice)\n",
    "client = db.Historical()"
   ]
  },
  {
   "cell_type": "code",
   "execution_count": 9,
   "id": "28809d04",
   "metadata": {},
   "outputs": [
    {
     "name": "stdout",
     "output_type": "stream",
     "text": [
      "DATABENTO_API_KEY: db-eKPHfQppqyT7Yvysp3pewXfSmQTGM\n"
     ]
    }
   ],
   "source": [
    "import os\n",
    "print(f\"DATABENTO_API_KEY: {os.getenv('DATABENTO_API_KEY')}\")"
   ]
  },
  {
   "cell_type": "code",
   "execution_count": null,
   "id": "dc923974",
   "metadata": {},
   "outputs": [
    {
     "data": {
      "text/plain": [
       "[{'publisher_id': 1,\n",
       "  'dataset': 'GLBX.MDP3',\n",
       "  'venue': 'GLBX',\n",
       "  'description': 'CME Globex MDP 3.0'},\n",
       " {'publisher_id': 2,\n",
       "  'dataset': 'XNAS.ITCH',\n",
       "  'venue': 'XNAS',\n",
       "  'description': 'Nasdaq TotalView-ITCH'},\n",
       " {'publisher_id': 3,\n",
       "  'dataset': 'XBOS.ITCH',\n",
       "  'venue': 'XBOS',\n",
       "  'description': 'Nasdaq BX TotalView-ITCH'},\n",
       " {'publisher_id': 4,\n",
       "  'dataset': 'XPSX.ITCH',\n",
       "  'venue': 'XPSX',\n",
       "  'description': 'Nasdaq PSX TotalView-ITCH'},\n",
       " {'publisher_id': 5,\n",
       "  'dataset': 'BATS.PITCH',\n",
       "  'venue': 'BATS',\n",
       "  'description': 'Cboe BZX Depth'}]"
      ]
     },
     "execution_count": 10,
     "metadata": {},
     "output_type": "execute_result"
    }
   ],
   "source": [
    "publishers = client.metadata.list_publishers()\n",
    "# Show only first five from long list\n",
    "publishers[:5]"
   ]
  },
  {
   "cell_type": "code",
   "execution_count": 13,
   "id": "4b6b228d",
   "metadata": {},
   "outputs": [
    {
     "name": "stdout",
     "output_type": "stream",
     "text": [
      "Available range for NVDA: {'start': '2018-05-01T00:00:00.000000000Z', 'end': '2025-06-14T00:00:00.000000000Z'}\n"
     ]
    }
   ],
   "source": [
    "# Set variables for schema, publisher, and symbol\n",
    "schema = \"mbo\"\n",
    "dataset = \"XNAS.ITCH\"\n",
    "venue = \"XNAS\"\n",
    "symbol = \"NVDA\"\n",
    "# Check available range for symbol\n",
    "available_range = client.metadata.get_dataset_range(dataset=dataset)\n",
    "print(f\"Available range for {symbol}: {available_range}\")"
   ]
  },
  {
   "cell_type": "code",
   "execution_count": 15,
   "id": "48bb3e23",
   "metadata": {},
   "outputs": [
    {
     "data": {
      "text/plain": [
       "0.935332176089"
      ]
     },
     "execution_count": 15,
     "metadata": {},
     "output_type": "execute_result"
    }
   ],
   "source": [
    "# Select a date range\n",
    "start_date = \"2025-01-01\"\n",
    "end_date = \"2025-01-03\"\n",
    "# Get costs for date range\n",
    "cost = client.metadata.get_cost(\n",
    "    dataset=dataset,\n",
    "    symbols=[symbol],\n",
    "    schema=schema,  # 1 hour bars ; only time-ranges that are multiplies of 10-minutes (cannot be used for 1-min bars)\n",
    "    start=start_date, # including start\n",
    "    end=end_date    # excluding end\n",
    ")\n",
    "\n",
    "cost"
   ]
  },
  {
   "cell_type": "code",
   "execution_count": 16,
   "id": "47cd900e",
   "metadata": {},
   "outputs": [],
   "source": [
    "# Download data for the specified date range\n",
    "data = client.timeseries.get_range(\n",
    "    dataset=dataset,\n",
    "    symbols=[symbol],\n",
    "    schema=schema,  # 1 hour bars ; only time-ranges that are multiplies of 10-minutes (cannot be used for 1-min bars)\n",
    "    start=start_date, # including start\n",
    "    end=end_date\n",
    ")"
   ]
  },
  {
   "cell_type": "code",
   "execution_count": 19,
   "id": "13b78d46",
   "metadata": {},
   "outputs": [
    {
     "name": "stdout",
     "output_type": "stream",
     "text": [
      "databento_data/NVDA_mbo_data.parquet\n"
     ]
    },
    {
     "data": {
      "application/vnd.microsoft.datawrangler.viewer.v0+json": {
       "columns": [
        {
         "name": "ts_recv",
         "rawType": "datetime64[ns, UTC]",
         "type": "unknown"
        },
        {
         "name": "ts_event",
         "rawType": "datetime64[ns, UTC]",
         "type": "unknown"
        },
        {
         "name": "rtype",
         "rawType": "uint8",
         "type": "integer"
        },
        {
         "name": "publisher_id",
         "rawType": "uint16",
         "type": "integer"
        },
        {
         "name": "instrument_id",
         "rawType": "uint32",
         "type": "integer"
        },
        {
         "name": "action",
         "rawType": "object",
         "type": "string"
        },
        {
         "name": "side",
         "rawType": "object",
         "type": "string"
        },
        {
         "name": "price",
         "rawType": "float64",
         "type": "float"
        },
        {
         "name": "size",
         "rawType": "uint32",
         "type": "integer"
        },
        {
         "name": "channel_id",
         "rawType": "uint8",
         "type": "integer"
        },
        {
         "name": "order_id",
         "rawType": "uint64",
         "type": "integer"
        },
        {
         "name": "flags",
         "rawType": "uint8",
         "type": "integer"
        },
        {
         "name": "ts_in_delta",
         "rawType": "int32",
         "type": "integer"
        },
        {
         "name": "sequence",
         "rawType": "uint32",
         "type": "integer"
        },
        {
         "name": "symbol",
         "rawType": "object",
         "type": "string"
        }
       ],
       "ref": "39753fdf-490c-480f-a62c-ec66d72b49d2",
       "rows": [
        [
         "2025-01-02 08:05:38.373775093+00:00",
         "2025-01-02 08:05:38.373608337+00:00",
         "160",
         "2",
         "11667",
         "R",
         "N",
         null,
         "0",
         "0",
         "0",
         "8",
         "0",
         "0",
         "NVDA"
        ],
        [
         "2025-01-02 09:00:00.017769278+00:00",
         "2025-01-02 09:00:00.017585971+00:00",
         "160",
         "2",
         "11667",
         "A",
         "A",
         "140.97",
         "100",
         "0",
         "1531",
         "128",
         "183307",
         "282985",
         "NVDA"
        ],
        [
         "2025-01-02 09:00:00.023755277+00:00",
         "2025-01-02 09:00:00.023588055+00:00",
         "160",
         "2",
         "11667",
         "A",
         "B",
         "132.1",
         "3000",
         "0",
         "2051",
         "130",
         "167222",
         "283142",
         "NVDA"
        ],
        [
         "2025-01-02 09:00:00.024020907+00:00",
         "2025-01-02 09:00:00.023854397+00:00",
         "160",
         "2",
         "11667",
         "A",
         "A",
         "157.05",
         "73",
         "0",
         "2087",
         "130",
         "166510",
         "283157",
         "NVDA"
        ],
        [
         "2025-01-02 09:00:00.093627349+00:00",
         "2025-01-02 09:00:00.093445031+00:00",
         "160",
         "2",
         "11667",
         "A",
         "B",
         "125.0",
         "20",
         "0",
         "5703",
         "0",
         "182318",
         "284767",
         "NVDA"
        ]
       ],
       "shape": {
        "columns": 14,
        "rows": 5
       }
      },
      "text/html": [
       "<div>\n",
       "<style scoped>\n",
       "    .dataframe tbody tr th:only-of-type {\n",
       "        vertical-align: middle;\n",
       "    }\n",
       "\n",
       "    .dataframe tbody tr th {\n",
       "        vertical-align: top;\n",
       "    }\n",
       "\n",
       "    .dataframe thead th {\n",
       "        text-align: right;\n",
       "    }\n",
       "</style>\n",
       "<table border=\"1\" class=\"dataframe\">\n",
       "  <thead>\n",
       "    <tr style=\"text-align: right;\">\n",
       "      <th></th>\n",
       "      <th>ts_event</th>\n",
       "      <th>rtype</th>\n",
       "      <th>publisher_id</th>\n",
       "      <th>instrument_id</th>\n",
       "      <th>action</th>\n",
       "      <th>side</th>\n",
       "      <th>price</th>\n",
       "      <th>size</th>\n",
       "      <th>channel_id</th>\n",
       "      <th>order_id</th>\n",
       "      <th>flags</th>\n",
       "      <th>ts_in_delta</th>\n",
       "      <th>sequence</th>\n",
       "      <th>symbol</th>\n",
       "    </tr>\n",
       "    <tr>\n",
       "      <th>ts_recv</th>\n",
       "      <th></th>\n",
       "      <th></th>\n",
       "      <th></th>\n",
       "      <th></th>\n",
       "      <th></th>\n",
       "      <th></th>\n",
       "      <th></th>\n",
       "      <th></th>\n",
       "      <th></th>\n",
       "      <th></th>\n",
       "      <th></th>\n",
       "      <th></th>\n",
       "      <th></th>\n",
       "      <th></th>\n",
       "    </tr>\n",
       "  </thead>\n",
       "  <tbody>\n",
       "    <tr>\n",
       "      <th>2025-01-02 08:05:38.373775093+00:00</th>\n",
       "      <td>2025-01-02 08:05:38.373608337+00:00</td>\n",
       "      <td>160</td>\n",
       "      <td>2</td>\n",
       "      <td>11667</td>\n",
       "      <td>R</td>\n",
       "      <td>N</td>\n",
       "      <td>NaN</td>\n",
       "      <td>0</td>\n",
       "      <td>0</td>\n",
       "      <td>0</td>\n",
       "      <td>8</td>\n",
       "      <td>0</td>\n",
       "      <td>0</td>\n",
       "      <td>NVDA</td>\n",
       "    </tr>\n",
       "    <tr>\n",
       "      <th>2025-01-02 09:00:00.017769278+00:00</th>\n",
       "      <td>2025-01-02 09:00:00.017585971+00:00</td>\n",
       "      <td>160</td>\n",
       "      <td>2</td>\n",
       "      <td>11667</td>\n",
       "      <td>A</td>\n",
       "      <td>A</td>\n",
       "      <td>140.97</td>\n",
       "      <td>100</td>\n",
       "      <td>0</td>\n",
       "      <td>1531</td>\n",
       "      <td>128</td>\n",
       "      <td>183307</td>\n",
       "      <td>282985</td>\n",
       "      <td>NVDA</td>\n",
       "    </tr>\n",
       "    <tr>\n",
       "      <th>2025-01-02 09:00:00.023755277+00:00</th>\n",
       "      <td>2025-01-02 09:00:00.023588055+00:00</td>\n",
       "      <td>160</td>\n",
       "      <td>2</td>\n",
       "      <td>11667</td>\n",
       "      <td>A</td>\n",
       "      <td>B</td>\n",
       "      <td>132.10</td>\n",
       "      <td>3000</td>\n",
       "      <td>0</td>\n",
       "      <td>2051</td>\n",
       "      <td>130</td>\n",
       "      <td>167222</td>\n",
       "      <td>283142</td>\n",
       "      <td>NVDA</td>\n",
       "    </tr>\n",
       "    <tr>\n",
       "      <th>2025-01-02 09:00:00.024020907+00:00</th>\n",
       "      <td>2025-01-02 09:00:00.023854397+00:00</td>\n",
       "      <td>160</td>\n",
       "      <td>2</td>\n",
       "      <td>11667</td>\n",
       "      <td>A</td>\n",
       "      <td>A</td>\n",
       "      <td>157.05</td>\n",
       "      <td>73</td>\n",
       "      <td>0</td>\n",
       "      <td>2087</td>\n",
       "      <td>130</td>\n",
       "      <td>166510</td>\n",
       "      <td>283157</td>\n",
       "      <td>NVDA</td>\n",
       "    </tr>\n",
       "    <tr>\n",
       "      <th>2025-01-02 09:00:00.093627349+00:00</th>\n",
       "      <td>2025-01-02 09:00:00.093445031+00:00</td>\n",
       "      <td>160</td>\n",
       "      <td>2</td>\n",
       "      <td>11667</td>\n",
       "      <td>A</td>\n",
       "      <td>B</td>\n",
       "      <td>125.00</td>\n",
       "      <td>20</td>\n",
       "      <td>0</td>\n",
       "      <td>5703</td>\n",
       "      <td>0</td>\n",
       "      <td>182318</td>\n",
       "      <td>284767</td>\n",
       "      <td>NVDA</td>\n",
       "    </tr>\n",
       "  </tbody>\n",
       "</table>\n",
       "</div>"
      ],
      "text/plain": [
       "                                                               ts_event  \\\n",
       "ts_recv                                                                   \n",
       "2025-01-02 08:05:38.373775093+00:00 2025-01-02 08:05:38.373608337+00:00   \n",
       "2025-01-02 09:00:00.017769278+00:00 2025-01-02 09:00:00.017585971+00:00   \n",
       "2025-01-02 09:00:00.023755277+00:00 2025-01-02 09:00:00.023588055+00:00   \n",
       "2025-01-02 09:00:00.024020907+00:00 2025-01-02 09:00:00.023854397+00:00   \n",
       "2025-01-02 09:00:00.093627349+00:00 2025-01-02 09:00:00.093445031+00:00   \n",
       "\n",
       "                                     rtype  publisher_id  instrument_id  \\\n",
       "ts_recv                                                                   \n",
       "2025-01-02 08:05:38.373775093+00:00    160             2          11667   \n",
       "2025-01-02 09:00:00.017769278+00:00    160             2          11667   \n",
       "2025-01-02 09:00:00.023755277+00:00    160             2          11667   \n",
       "2025-01-02 09:00:00.024020907+00:00    160             2          11667   \n",
       "2025-01-02 09:00:00.093627349+00:00    160             2          11667   \n",
       "\n",
       "                                    action side   price  size  channel_id  \\\n",
       "ts_recv                                                                     \n",
       "2025-01-02 08:05:38.373775093+00:00      R    N     NaN     0           0   \n",
       "2025-01-02 09:00:00.017769278+00:00      A    A  140.97   100           0   \n",
       "2025-01-02 09:00:00.023755277+00:00      A    B  132.10  3000           0   \n",
       "2025-01-02 09:00:00.024020907+00:00      A    A  157.05    73           0   \n",
       "2025-01-02 09:00:00.093627349+00:00      A    B  125.00    20           0   \n",
       "\n",
       "                                     order_id  flags  ts_in_delta  sequence  \\\n",
       "ts_recv                                                                       \n",
       "2025-01-02 08:05:38.373775093+00:00         0      8            0         0   \n",
       "2025-01-02 09:00:00.017769278+00:00      1531    128       183307    282985   \n",
       "2025-01-02 09:00:00.023755277+00:00      2051    130       167222    283142   \n",
       "2025-01-02 09:00:00.024020907+00:00      2087    130       166510    283157   \n",
       "2025-01-02 09:00:00.093627349+00:00      5703      0       182318    284767   \n",
       "\n",
       "                                    symbol  \n",
       "ts_recv                                     \n",
       "2025-01-02 08:05:38.373775093+00:00   NVDA  \n",
       "2025-01-02 09:00:00.017769278+00:00   NVDA  \n",
       "2025-01-02 09:00:00.023755277+00:00   NVDA  \n",
       "2025-01-02 09:00:00.024020907+00:00   NVDA  \n",
       "2025-01-02 09:00:00.093627349+00:00   NVDA  "
      ]
     },
     "execution_count": 19,
     "metadata": {},
     "output_type": "execute_result"
    }
   ],
   "source": [
    "# Convert to DataFrame and save to Parquet at ./databento_data\n",
    "df = data.to_df()\n",
    "print(DATABENTO_DATA_DIR / f\"{symbol}_{schema}_data.parquet\")\n",
    "df.head()\n"
   ]
  },
  {
   "cell_type": "code",
   "execution_count": 22,
   "id": "f23a518b",
   "metadata": {},
   "outputs": [
    {
     "name": "stdout",
     "output_type": "stream",
     "text": [
      "Current working directory: /home/david/repos/nautilusTrader/.venv/bin\n",
      "DATABENTO_DATA_DIR is: databento_data\n",
      "Symbol is: NVDA\n",
      "Schema is: mbo\n",
      "Attempting to save to relative path: databento_data/NVDA_mbo_data.parquet\n",
      "Attempting to save to absolute path: /home/david/repos/nautilusTrader/.venv/bin/databento_data/NVDA_mbo_data.parquet\n",
      "SUCCESS: File successfully saved: /home/david/repos/nautilusTrader/.venv/bin/databento_data/NVDA_mbo_data.parquet\n",
      "File size: 305803650 bytes\n",
      "SUCCESS: File successfully saved: /home/david/repos/nautilusTrader/.venv/bin/databento_data/NVDA_mbo_data.parquet\n",
      "File size: 305803650 bytes\n"
     ]
    }
   ],
   "source": [
    "# Save data to databento_data directory\n",
    "# from pathlib import Path # Path should be imported from a previous cell\n",
    "\n",
    "target_path = DATABENTO_DATA_DIR / f\"{symbol}_{schema}_data.parquet\"\n",
    "absolute_path = target_path.resolve()\n",
    "\n",
    "print(f\"Current working directory: {Path.cwd()}\")\n",
    "print(f\"DATABENTO_DATA_DIR is: {DATABENTO_DATA_DIR}\")\n",
    "print(f\"Symbol is: {symbol}\")\n",
    "print(f\"Schema is: {schema}\")\n",
    "print(f\"Attempting to save to relative path: {target_path}\")\n",
    "print(f\"Attempting to save to absolute path: {absolute_path}\")\n",
    "\n",
    "try:\n",
    "    df.to_parquet(target_path)\n",
    "\n",
    "    # Check if the file was created\n",
    "    if absolute_path.exists():\n",
    "        print(f\"SUCCESS: File successfully saved: {absolute_path}\")\n",
    "        print(f\"File size: {absolute_path.stat().st_size} bytes\")\n",
    "    else:\n",
    "        print(f\"FAILURE: File NOT found after saving attempt: {absolute_path}\")\n",
    "        # Check if the directory exists\n",
    "        if DATABENTO_DATA_DIR.resolve().exists() and DATABENTO_DATA_DIR.resolve().is_dir():\n",
    "            print(f\"The directory {DATABENTO_DATA_DIR.resolve()} exists.\")\n",
    "            print(f\"Contents of {DATABENTO_DATA_DIR.resolve()}:\")\n",
    "            for item in DATABENTO_DATA_DIR.resolve().iterdir():\n",
    "                print(f\"  - {item.name}\")\n",
    "        else:\n",
    "            print(f\"The directory {DATABENTO_DATA_DIR.resolve()} does NOT exist or is not a directory.\")\n",
    "except Exception as e:\n",
    "    print(f\"An error occurred during df.to_parquet: {e}\")"
   ]
  },
  {
   "cell_type": "code",
   "execution_count": null,
   "id": "b15c85b5",
   "metadata": {},
   "outputs": [],
   "source": []
  }
 ],
 "metadata": {
  "kernelspec": {
   "display_name": "Python (nautilus-trader-venv)",
   "language": "python",
   "name": "nautilus-trader-venv"
  },
  "language_info": {
   "codemirror_mode": {
    "name": "ipython",
    "version": 3
   },
   "file_extension": ".py",
   "mimetype": "text/x-python",
   "name": "python",
   "nbconvert_exporter": "python",
   "pygments_lexer": "ipython3",
   "version": "3.13.3"
  }
 },
 "nbformat": 4,
 "nbformat_minor": 5
}
